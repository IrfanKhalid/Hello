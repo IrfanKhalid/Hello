{
  "nbformat": 4,
  "nbformat_minor": 0,
  "metadata": {
    "colab": {
      "name": "MINSTHandWrittenDigitIdentitfication.ipynb",
      "version": "0.3.2",
      "provenance": [],
      "include_colab_link": true
    },
    "kernelspec": {
      "name": "python3",
      "display_name": "Python 3"
    },
    "accelerator": "TPU"
  },
  "cells": [
    {
      "cell_type": "markdown",
      "metadata": {
        "id": "view-in-github",
        "colab_type": "text"
      },
      "source": [
        "<a href=\"https://colab.research.google.com/github/IrfanKhalid/MINST-Handwriting-Digit-Classification-/blob/master/MINSTHandWrittenDigitIdentitfication.ipynb\" target=\"_parent\"><img src=\"https://colab.research.google.com/assets/colab-badge.svg\" alt=\"Open In Colab\"/></a>"
      ]
    },
    {
      "metadata": {
        "id": "ZeOGAOBTvmDw",
        "colab_type": "code",
        "colab": {}
      },
      "cell_type": "code",
      "source": [
        "from keras.datasets import mnist\n",
        "import matplotlib.pyplot as plt\n",
        "(X_train,y_train), (X_test, y_test)=mnist.load_data()\n"
      ],
      "execution_count": 0,
      "outputs": []
    },
    {
      "metadata": {
        "id": "4FijFzPQwkQP",
        "colab_type": "code",
        "colab": {
          "base_uri": "https://localhost:8080/",
          "height": 185
        },
        "outputId": "264e3d79-4eb9-415d-ffd0-b52518f283ba"
      },
      "cell_type": "code",
      "source": [
        "plt.subplot(221)\n",
        "plt.imshow(X_train[0], cmap=plt.get_cmap('gray'))\n",
        "plt.subplot(222)\n",
        "plt.imshow(X_train[10], cmap=plt.get_cmap('gray'))\n",
        "\n",
        "plt.show()"
      ],
      "execution_count": 18,
      "outputs": [
        {
          "output_type": "display_data",
          "data": {
            "image/png": "[encoded data removed]",
            "text/plain": [
              "<Figure size 576x396 with 2 Axes>"
            ]
          },
          "metadata": {
            "tags": []
          }
        }
      ]
    },
    {
      "metadata": {
        "id": "hUAIQPDj0y5F",
        "colab_type": "code",
        "colab": {}
      },
      "cell_type": "code",
      "source": [
        "import numpy\n",
        "from keras.models import Sequential\n",
        "from keras.layers import Dense\n",
        "from keras.layers import Dropout\n",
        "from keras.utils import np_utils\n",
        "\n",
        "\n"
      ],
      "execution_count": 0,
      "outputs": []
    },
    {
      "metadata": {
        "id": "W2CIgtaj1RK-",
        "colab_type": "code",
        "colab": {}
      },
      "cell_type": "code",
      "source": [
        "# fix random seed for reproducability\n",
        "seed = 7\n",
        "numpy.random.seed(seed)"
      ],
      "execution_count": 0,
      "outputs": []
    },
    {
      "metadata": {
        "id": "_puf6aWyeAW0",
        "colab_type": "code",
        "colab": {}
      },
      "cell_type": "code",
      "source": [
        "#flatten 28*28 images to a 784 vector for feeding to perceptron\n",
        "\n",
        "num_pixels= X_train.shape[1]*X_train.shape[2]\n",
        "X_train=X_train.reshape(X_train.shape[0],num_pixels).astype('float32')\n",
        "X_test=X_test.reshape(X_test.shape[0],num_pixels).astype('float32')\n"
      ],
      "execution_count": 0,
      "outputs": []
    },
    {
      "metadata": {
        "id": "VU5ULrIg1e0N",
        "colab_type": "code",
        "colab": {}
      },
      "cell_type": "code",
      "source": [
        "X_train = X_train / 255\n",
        "X_test = X_test / 255\n",
        "\n",
        "#one hot encode outputs\n",
        "\n",
        "y_train = np_utils.to_categorical(y_train)\n",
        "y_test = np_utils.to_categorical(y_test)\n",
        "num_classes=y_test.shape[1]"
      ],
      "execution_count": 0,
      "outputs": []
    },
    {
      "metadata": {
        "id": "jStn9w0phGPZ",
        "colab_type": "code",
        "colab": {}
      },
      "cell_type": "code",
      "source": [
        "# Base line Model\n",
        "def baseline_model():\n",
        "  model=Sequential()\n",
        "  model.add(Dense(num_pixels, input_dim=num_pixels, kernel_initializer='normal',activation='relu'))\n",
        "  model.add(Dense(num_classes, kernel_initializer='normal',activation='softmax'))\n",
        "  #Compile Model\n",
        "  model.compile(loss='categorical_crossentropy', optimizer='adam',metrics=['accuracy'])\n",
        "  return model\n"
      ],
      "execution_count": 0,
      "outputs": []
    },
    {
      "metadata": {
        "id": "712H3eFql-8W",
        "colab_type": "code",
        "colab": {
          "base_uri": "https://localhost:8080/",
          "height": 386
        },
        "outputId": "2f00a148-a360-4682-e25a-26d7d459f6fd"
      },
      "cell_type": "code",
      "source": [
        "model=baseline_model()\n",
        "model.fit(X_train,y_train, validation_data=(X_test,y_test),epochs=10,batch_size=200,verbose=2)\n",
        "#Final Evaluation model\n",
        "scores=model.evaluate(X_test,y_test, verbose=0)\n",
        "print(\"Error: %.2ff%%\" % (100-scores[1]*100))"
      ],
      "execution_count": 20,
      "outputs": [
        {
          "output_type": "stream",
          "text": [
            "Train on 60000 samples, validate on 10000 samples\n",
            "Epoch 1/10\n",
            " - 8s - loss: 0.2716 - acc: 0.9227 - val_loss: 0.1397 - val_acc: 0.9595\n",
            "Epoch 2/10\n",
            " - 7s - loss: 0.1101 - acc: 0.9683 - val_loss: 0.0961 - val_acc: 0.9704\n",
            "Epoch 3/10\n",
            " - 6s - loss: 0.0699 - acc: 0.9801 - val_loss: 0.0733 - val_acc: 0.9772\n",
            "Epoch 4/10\n",
            " - 6s - loss: 0.0491 - acc: 0.9860 - val_loss: 0.0692 - val_acc: 0.9791\n",
            "Epoch 5/10\n",
            " - 6s - loss: 0.0358 - acc: 0.9899 - val_loss: 0.0659 - val_acc: 0.9795\n",
            "Epoch 6/10\n",
            " - 6s - loss: 0.0261 - acc: 0.9931 - val_loss: 0.0674 - val_acc: 0.9784\n",
            "Epoch 7/10\n",
            " - 6s - loss: 0.0199 - acc: 0.9950 - val_loss: 0.0596 - val_acc: 0.9807\n",
            "Epoch 8/10\n",
            " - 6s - loss: 0.0152 - acc: 0.9964 - val_loss: 0.0597 - val_acc: 0.9800\n",
            "Epoch 9/10\n",
            " - 6s - loss: 0.0104 - acc: 0.9978 - val_loss: 0.0634 - val_acc: 0.9804\n",
            "Epoch 10/10\n",
            " - 6s - loss: 0.0072 - acc: 0.9988 - val_loss: 0.0582 - val_acc: 0.9816\n",
            "Error: 1.84f%\n"
          ],
          "name": "stdout"
        }
      ]
    },
    {
      "metadata": {
        "id": "tip-_f2vn2K1",
        "colab_type": "code",
        "colab": {}
      },
      "cell_type": "code",
      "source": [
        ""
      ],
      "execution_count": 0,
      "outputs": []
    },
    {
      "metadata": {
        "id": "POvdHZV_n2Q_",
        "colab_type": "code",
        "colab": {}
      },
      "cell_type": "code",
      "source": [
        ""
      ],
      "execution_count": 0,
      "outputs": []
    },
    {
      "metadata": {
        "id": "QBwl0bI9n2Pg",
        "colab_type": "code",
        "colab": {}
      },
      "cell_type": "code",
      "source": [
        ""
      ],
      "execution_count": 0,
      "outputs": []
    },
    {
      "metadata": {
        "id": "9g5f6ne-n2JQ",
        "colab_type": "code",
        "colab": {}
      },
      "cell_type": "code",
      "source": [
        ""
      ],
      "execution_count": 0,
      "outputs": []
    },
    {
      "metadata": {
        "id": "r7k3aESsl_O1",
        "colab_type": "code",
        "colab": {}
      },
      "cell_type": "code",
      "source": [
        ""
      ],
      "execution_count": 0,
      "outputs": []
    },
    {
      "metadata": {
        "id": "TSdwpiQ5l_M4",
        "colab_type": "code",
        "colab": {}
      },
      "cell_type": "code",
      "source": [
        ""
      ],
      "execution_count": 0,
      "outputs": []
    }
  ]
}
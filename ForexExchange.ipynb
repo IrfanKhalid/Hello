{
  "nbformat": 4,
  "nbformat_minor": 0,
  "metadata": {
    "colab": {
      "name": "ForexExchange.ipynb",
      "version": "0.3.2",
      "provenance": [],
      "collapsed_sections": [],
      "include_colab_link": true
    },
    "kernelspec": {
      "name": "python3",
      "display_name": "Python 3"
    }
  },
  "cells": [
    {
      "cell_type": "markdown",
      "metadata": {
        "id": "view-in-github",
        "colab_type": "text"
      },
      "source": [
        "<a href=\"https://colab.research.google.com/github/IrfanKhalid/Hello/blob/Junior/ForexExchange.ipynb\" target=\"_parent\"><img src=\"https://colab.research.google.com/assets/colab-badge.svg\" alt=\"Open In Colab\"/></a>"
      ]
    },
    {
      "metadata": {
        "id": "4zy0LQHIBM_J",
        "colab_type": "code",
        "colab": {}
      },
      "cell_type": "code",
      "source": [
        "import numpy as np\n",
        "import pandas as pd\n",
        "import sklearn as sk"
      ],
      "execution_count": 0,
      "outputs": []
    },
    {
      "metadata": {
        "id": "XaiEq0iLByH6",
        "colab_type": "code",
        "outputId": "f2499cb8-d3d2-407c-9e3d-184b3c578557",
        "colab": {
          "base_uri": "https://localhost:8080/",
          "height": 34
        }
      },
      "cell_type": "code",
      "source": [
        "from google.colab import drive\n",
        "drive.mount('/content/drive')"
      ],
      "execution_count": 0,
      "outputs": [
        {
          "output_type": "stream",
          "text": [
            "Mounted at /content/drive\n"
          ],
          "name": "stdout"
        }
      ]
    },
    {
      "metadata": {
        "id": "c81ia0ihDP6G",
        "colab_type": "code",
        "outputId": "8436ce40-69a9-476f-8a01-d8b95072b511",
        "colab": {
          "base_uri": "https://localhost:8080/",
          "height": 34
        }
      },
      "cell_type": "code",
      "source": [
        "!ls"
      ],
      "execution_count": 0,
      "outputs": [
        {
          "output_type": "stream",
          "text": [
            "drive  Forex_AUDUSD1440.csv  sample_data\n"
          ],
          "name": "stdout"
        }
      ]
    },
    {
      "metadata": {
        "id": "CBBmqYhQB9kZ",
        "colab_type": "code",
        "colab": {}
      },
      "cell_type": "code",
      "source": [
        "Forex=pd.read_csv('Forex_AUDUSD1440.csv')"
      ],
      "execution_count": 0,
      "outputs": []
    },
    {
      "metadata": {
        "id": "f3MGg_q0EWtV",
        "colab_type": "code",
        "outputId": "7e9d46c9-0225-41df-c531-84ab80ac5412",
        "colab": {
          "base_uri": "https://localhost:8080/",
          "height": 195
        }
      },
      "cell_type": "code",
      "source": [
        "Forex.head()"
      ],
      "execution_count": 0,
      "outputs": [
        {
          "output_type": "execute_result",
          "data": {
            "text/html": [
              "<div>\n",
              "<style scoped>\n",
              "    .dataframe tbody tr th:only-of-type {\n",
              "        vertical-align: middle;\n",
              "    }\n",
              "\n",
              "    .dataframe tbody tr th {\n",
              "        vertical-align: top;\n",
              "    }\n",
              "\n",
              "    .dataframe thead th {\n",
              "        text-align: right;\n",
              "    }\n",
              "</style>\n",
              "<table border=\"1\" class=\"dataframe\">\n",
              "  <thead>\n",
              "    <tr style=\"text-align: right;\">\n",
              "      <th></th>\n",
              "      <th>Time</th>\n",
              "      <th>Open</th>\n",
              "      <th>High</th>\n",
              "      <th>Low</th>\n",
              "      <th>Close</th>\n",
              "      <th>Volume</th>\n",
              "    </tr>\n",
              "  </thead>\n",
              "  <tbody>\n",
              "    <tr>\n",
              "      <th>0</th>\n",
              "      <td>2012.12.10</td>\n",
              "      <td>1.04865</td>\n",
              "      <td>1.05049</td>\n",
              "      <td>1.04643</td>\n",
              "      <td>1.04868</td>\n",
              "      <td>59083</td>\n",
              "    </tr>\n",
              "    <tr>\n",
              "      <th>1</th>\n",
              "      <td>2012.12.11</td>\n",
              "      <td>1.04870</td>\n",
              "      <td>1.05315</td>\n",
              "      <td>1.04602</td>\n",
              "      <td>1.05266</td>\n",
              "      <td>61555</td>\n",
              "    </tr>\n",
              "    <tr>\n",
              "      <th>2</th>\n",
              "      <td>2012.12.12</td>\n",
              "      <td>1.05265</td>\n",
              "      <td>1.05848</td>\n",
              "      <td>1.05219</td>\n",
              "      <td>1.05531</td>\n",
              "      <td>68021</td>\n",
              "    </tr>\n",
              "    <tr>\n",
              "      <th>3</th>\n",
              "      <td>2012.12.13</td>\n",
              "      <td>1.05522</td>\n",
              "      <td>1.05628</td>\n",
              "      <td>1.05072</td>\n",
              "      <td>1.05264</td>\n",
              "      <td>66515</td>\n",
              "    </tr>\n",
              "    <tr>\n",
              "      <th>4</th>\n",
              "      <td>2012.12.14</td>\n",
              "      <td>1.05261</td>\n",
              "      <td>1.05770</td>\n",
              "      <td>1.05090</td>\n",
              "      <td>1.05651</td>\n",
              "      <td>68063</td>\n",
              "    </tr>\n",
              "  </tbody>\n",
              "</table>\n",
              "</div>"
            ],
            "text/plain": [
              "         Time     Open     High      Low    Close  Volume\n",
              "0  2012.12.10  1.04865  1.05049  1.04643  1.04868   59083\n",
              "1  2012.12.11  1.04870  1.05315  1.04602  1.05266   61555\n",
              "2  2012.12.12  1.05265  1.05848  1.05219  1.05531   68021\n",
              "3  2012.12.13  1.05522  1.05628  1.05072  1.05264   66515\n",
              "4  2012.12.14  1.05261  1.05770  1.05090  1.05651   68063"
            ]
          },
          "metadata": {
            "tags": []
          },
          "execution_count": 16
        }
      ]
    }
  ]
}